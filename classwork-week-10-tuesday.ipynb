{
 "cells": [
  {
   "cell_type": "markdown",
   "metadata": {},
   "source": [
    "09:30 Kelsey Jiang - What might have happened at the 300 Ma where it showed a peak in the extinction rate?\n",
    "\n",
    "09:34 Dominique Castro - What could be one of the reason why they couldn't identify\n",
    "\n",
    "09:38 Linna Sun - How were you able to plot the fossil occurrences to world map???\n",
    "\n",
    "09:42 Ashen Parikh - If the average of the United States were less than that of India, why did the RGraph seems like they had higher average?\n",
    "\n",
    "09:46 Matthew Muia- What is a bootstrapping? and did you run the t-test through the python\n",
    "\n",
    "09:50 Antonella Gonzalez - How did the environment contribute to the migration of the species?\n",
    "\n",
    "09:54 Yee Chau - How does the environment impact the preservation and the occurrences of species?\n",
    "\n",
    "09:58 Kristen Lee - what were the species that moved up north and why did the species move up more to north?\n",
    "\n",
    "10:02 Madison Downing - which area is the most populated for orange?\n",
    "\n",
    "10:06 Youstina Salama - can you explain more about the pyrate graph?\n",
    "\n",
    "10:10 Jeremy Wadowski - Where do you get the samples from?\n",
    "\n",
    "10:14 Mehdi Nojoumi - what's the relationship between the bird athrosclorosis versus the human's?\n",
    "\n",
    "10:18 Junghoon Kim - How did the cockroaches react to different colors of lights? \n",
    "\n",
    "10:22 Dustin Wong - What's one of the reason why the dataset was too small to be visualized?"
   ]
  },
  {
   "cell_type": "code",
   "execution_count": null,
   "metadata": {
    "collapsed": true
   },
   "outputs": [],
   "source": []
  }
 ],
 "metadata": {
  "anaconda-cloud": {},
  "kernelspec": {
   "display_name": "Python [default]",
   "language": "python",
   "name": "python3"
  },
  "language_info": {
   "codemirror_mode": {
    "name": "ipython",
    "version": 3
   },
   "file_extension": ".py",
   "mimetype": "text/x-python",
   "name": "python",
   "nbconvert_exporter": "python",
   "pygments_lexer": "ipython3",
   "version": "3.5.2"
  }
 },
 "nbformat": 4,
 "nbformat_minor": 2
}
