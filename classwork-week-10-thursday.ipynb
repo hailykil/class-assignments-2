{
 "cells": [
  {
   "cell_type": "markdown",
   "metadata": {},
   "source": [
    "Aditya Kantawala - Were you thinking about how to layout the different continents? How can you map them in the world map?\n",
    "\n",
    "Justin Shieh - What might be one of the reason for mass extinction? Why are the whales concentrated on the coast?\n",
    "\n",
    "Sarah Kim - What was the reason for the explosion of speciation and decrease of speciation?\n",
    "\n",
    "Christina Zhou - Why do they not fossilize well?\n",
    "\n",
    "Gayane Hovsepyan - comment-might want to label the graphs to see what the data is saying. Overlapping graphs were confusing\n",
    "\n",
    "Roxana Nojoumi - There are fossil records for all the continents. How did the speciation occur and get to differet continents?\n",
    "\n",
    "Cooper Kass - How does the extinction of dinosaurs related to extinction of the seagrass species? And is there another way to increase the species size?\n",
    "\n",
    "Jeffrey Lee - There was a correlation rate and extinction rate? How will you push that into the code?\n",
    "\n",
    "Laura Trejo - Why are they only restricted to the tropical region?\n",
    "\n",
    "Jin Kim - Why do you want to look at the fossil records of that specific species?\n",
    "\n",
    "Marina Salama - Do you think the decline in the extant species is due to a part of fungus?\n",
    "\n",
    "Erin Solis - Why do you think there was jump in the extinction graph?\n",
    "\n",
    "Sean Mathew - If there is an even rate of speciation and extinction, why did they produce decrease in diversity?\n",
    "\n",
    "Tiffany Dang - Why did they die out towards the very recent time period?"
   ]
  }
 ],
 "metadata": {
  "kernelspec": {
   "display_name": "Python [default]",
   "language": "python",
   "name": "python3"
  },
  "language_info": {
   "codemirror_mode": {
    "name": "ipython",
    "version": 3
   },
   "file_extension": ".py",
   "mimetype": "text/x-python",
   "name": "python",
   "nbconvert_exporter": "python",
   "pygments_lexer": "ipython3",
   "version": "3.5.2"
  }
 },
 "nbformat": 4,
 "nbformat_minor": 2
}
