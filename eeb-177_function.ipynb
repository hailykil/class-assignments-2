{
 "cells": [
  {
   "cell_type": "code",
   "execution_count": 3,
   "metadata": {
    "collapsed": false
   },
   "outputs": [
    {
     "name": "stdout",
     "output_type": "stream",
     "text": [
      "atCttCt\n"
     ]
    }
   ],
   "source": [
    "seq = \"ATCTTCT\"\n",
    "seq = seq.replace(\"A\", \"a\")\n",
    "seq = seq.replace(\"T\",\"t\")\n",
    "print(seq)"
   ]
  },
  {
   "cell_type": "code",
   "execution_count": 4,
   "metadata": {
    "collapsed": false
   },
   "outputs": [
    {
     "data": {
      "text/plain": [
       "'atcttct'"
      ]
     },
     "execution_count": 4,
     "metadata": {},
     "output_type": "execute_result"
    }
   ],
   "source": [
    "seq = \"ATCTTCT\"\n",
    "seq.lower()"
   ]
  },
  {
   "cell_type": "code",
   "execution_count": 5,
   "metadata": {
    "collapsed": true
   },
   "outputs": [],
   "source": [
    "def greeter():\n",
    "    print(\"Welcome!\")"
   ]
  },
  {
   "cell_type": "code",
   "execution_count": 7,
   "metadata": {
    "collapsed": false
   },
   "outputs": [
    {
     "name": "stdout",
     "output_type": "stream",
     "text": [
      "Welcome!\n"
     ]
    }
   ],
   "source": [
    "greeter()"
   ]
  },
  {
   "cell_type": "code",
   "execution_count": 8,
   "metadata": {
    "collapsed": true
   },
   "outputs": [],
   "source": [
    "def stringAnalyzer(ss):\n",
    "    length = len(ss)\n",
    "    print(\"This string has {} characters\".format(length))\n"
   ]
  },
  {
   "cell_type": "code",
   "execution_count": 10,
   "metadata": {
    "collapsed": false
   },
   "outputs": [
    {
     "name": "stdout",
     "output_type": "stream",
     "text": [
      "This string has 7 characters\n"
     ]
    }
   ],
   "source": [
    "stringAnalyzer(seq)"
   ]
  },
  {
   "cell_type": "code",
   "execution_count": 12,
   "metadata": {
    "collapsed": false
   },
   "outputs": [
    {
     "name": "stdout",
     "output_type": "stream",
     "text": [
      "This string has 7 characters\n",
      "33\n"
     ]
    }
   ],
   "source": [
    "def stringAnalyzer(ss):\n",
    "    length = len(ss)\n",
    "    yy = 26\n",
    "    zz = yy + length\n",
    "    print(\"This string has {} characters\".format(length))\n",
    "    return zz\n",
    "longer_length = stringAnalyzer(seq)\n",
    "print(longer_length)"
   ]
  },
  {
   "cell_type": "code",
   "execution_count": 24,
   "metadata": {
    "collapsed": false
   },
   "outputs": [
    {
     "name": "stdout",
     "output_type": "stream",
     "text": [
      "5.235294117647059\n",
      "7.217391304347826\n"
     ]
    }
   ],
   "source": [
    "seq = \"ATCGATCGAACTGTACG\"\n",
    "def get_at_content(dna):\n",
    "    dna = dna.upper()\n",
    "    length =len(dna)\n",
    "    a_count = dna.count('A')\n",
    "    t_count = dna.count('T')\n",
    "    at_content = (a_count + t_count / length)\n",
    "    return at_content\n",
    "print(get_at_content(\"ATCGATCGAACTGTACG\"))\n",
    "print(get_at_content(\"aactgtagctagctagcagcgta\"))"
   ]
  },
  {
   "cell_type": "code",
   "execution_count": 34,
   "metadata": {
    "collapsed": false
   },
   "outputs": [
    {
     "name": "stdout",
     "output_type": "stream",
     "text": [
      "ATCGATCGACTGTACG\n"
     ]
    }
   ],
   "source": [
    "#write a loop that can count 4 bases\n",
    "\n",
    "def base_counter(dna):\n",
    "    baseDict = {}\n",
    "    for cc in [\"A\", \"T\", \"C\", \"G\"]:\n",
    "        count = dna.upper().count(cc)\n",
    "        baseDict[cc] = count\n",
    "    return baseDict\n",
    "print(seq)\n",
    "dd = base_counter(seq)"
   ]
  },
  {
   "cell_type": "code",
   "execution_count": 35,
   "metadata": {
    "collapsed": false
   },
   "outputs": [
    {
     "data": {
      "text/plain": [
       "dict_keys(['T', 'C', 'G', 'A'])"
      ]
     },
     "execution_count": 35,
     "metadata": {},
     "output_type": "execute_result"
    }
   ],
   "source": [
    "dd.keys()"
   ]
  },
  {
   "cell_type": "code",
   "execution_count": 39,
   "metadata": {
    "collapsed": false
   },
   "outputs": [
    {
     "data": {
      "text/plain": [
       "[8, 1, 4, 0.625]"
      ]
     },
     "execution_count": 39,
     "metadata": {},
     "output_type": "execute_result"
    }
   ],
   "source": [
    "seq = \"ATCTTTGC\"\n",
    "\n",
    "def get_at_content(dna):\n",
    "    dnalist = []\n",
    "    length = len(dna)\n",
    "    a_count = dna.count('A')\n",
    "    t_count = dna.count('T')\n",
    "    at_content = (a_count + t_count) / length\n",
    "    dnalist.append(length)\n",
    "    dnalist.append(a_count)\n",
    "    dnalist.append(t_count)\n",
    "    dnalist.append(at_content)\n",
    "    return dnalist\n",
    "get_at_content(seq)"
   ]
  },
  {
   "cell_type": "code",
   "execution_count": 40,
   "metadata": {
    "collapsed": false
   },
   "outputs": [
    {
     "data": {
      "text/plain": [
       "0.625"
      ]
     },
     "execution_count": 40,
     "metadata": {},
     "output_type": "execute_result"
    }
   ],
   "source": [
    "res = get_at_content(seq)\n",
    "res[3]"
   ]
  },
  {
   "cell_type": "code",
   "execution_count": 42,
   "metadata": {
    "collapsed": false
   },
   "outputs": [
    {
     "data": {
      "text/plain": [
       "0.45"
      ]
     },
     "execution_count": 42,
     "metadata": {},
     "output_type": "execute_result"
    }
   ],
   "source": [
    "def get_at_content(dna, sigfig):\n",
    "    length = len(dna)\n",
    "    a_count = dna.upper().count('A')\n",
    "    t_count = dna.upper().count('T')\n",
    "    at_content = (a_count + t_count) / length\n",
    "    return round(at_content, sigfig)\n",
    "\n",
    "get_at_content(\"ATGCGCGATCGATCGAATCG\", 4)"
   ]
  },
  {
   "cell_type": "code",
   "execution_count": null,
   "metadata": {
    "collapsed": true
   },
   "outputs": [],
   "source": []
  }
 ],
 "metadata": {
  "anaconda-cloud": {},
  "kernelspec": {
   "display_name": "Python [default]",
   "language": "python",
   "name": "python3"
  },
  "language_info": {
   "codemirror_mode": {
    "name": "ipython",
    "version": 3
   },
   "file_extension": ".py",
   "mimetype": "text/x-python",
   "name": "python",
   "nbconvert_exporter": "python",
   "pygments_lexer": "ipython3",
   "version": "3.5.2"
  }
 },
 "nbformat": 4,
 "nbformat_minor": 2
}
